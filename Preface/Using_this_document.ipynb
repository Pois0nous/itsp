{
 "cells": [
  {
   "cell_type": "markdown",
   "id": "fade7070-ab8f-4e44-b181-314d170b6ac7",
   "metadata": {},
   "source": [
    "(content:usingthisbook)=\n",
    "# Using this book\n",
    "\n",
    "The recommend starting point is the website [https://speechprocessingbook.aalto.fi/](https://speechprocessingbook.aalto.fi/). This gives very easy access to most content in the book. \n",
    "\n",
    "To try out the code-examples and to get full access to all interactive demonstrations, we offer the following options:\n",
    "\n",
    "1. Directly from the [website](https://speechprocessingbook.aalto.fi/) with code-examples and interactive components through [Mybinder](https://mybinder.org/) or [Colab](https://colab.research.google.com/). (Disclaimer: Mybinder is often slow and on Colab some notebooks do not currently work.) To use this feature, click on the rocket-shaped logo on top of the page. \n",
    "2. Download the book from GitHub [https://github.com/Speech-Interaction-Technology-Aalto-U/itsp](https://github.com/Speech-Interaction-Technology-Aalto-U/itsp). Run JupyterLab on a [local server](content:localserver).\n",
    "\n",
    "Benefits of running the code yourself include:\n",
    "- You can change parameters and code to see how that changes behaviour.\n",
    "- You can use your own sound files (such as recording of your own voice) in both code-examples and interactive visualizations.\n"
   ]
  },
  {
   "cell_type": "markdown",
   "id": "5e5eafde-be84-41c6-a6ea-b7b8097cec8c",
   "metadata": {
    "tags": []
   },
   "source": [
    "(content:localserver)=\n",
    "## Using a local server\n",
    "\n",
    "While it is not necessary for most readers, to get comprehensive access to all content, you can run a local [Jupyter](https://jupyter.org/)-server to access this book. To make this work, follow the steps below.\n",
    "\n",
    "1. Download the book from GitHub [https://github.com/Speech-Interaction-Technology-Aalto-U/itsp](https://github.com/Speech-Interaction-Technology-Aalto-U/itsp).\n",
    "\n",
    "2. Install [Anaconda](https://anaconda.org) (recommended) or some other packing-service to get access to [Python](https://www.python.org/). \n",
    "\n",
    "3. It is recommended (but might not be required) to configure Anaconda by adding the following channels.\n",
    "\n",
    "   ```bash\n",
    "   conda config --add channels conda-forge\n",
    "   conda config --add channels pytorch\n",
    "   ```\n",
    "   ![]()\n",
    "   Then these channels should appear in your .condarc -file together with `default`.\n",
    "\n",
    "4. Install the following packages\n",
    "   ```bash\n",
    "   conda install matplotlib scipy numpy jupyter jupyterlab torch torchaudio ipython ipywidgets\n",
    "   ```\n",
    "    ![]()\n",
    "5. In the folder where the book is stored, run JupyterLab by\n",
    "   ```bash\n",
    "   jupyter lab &\n",
    "   ```   \n",
    "   ![]()\n",
    "6. Open the file `index.md` and starting reading."
   ]
  },
  {
   "cell_type": "markdown",
   "id": "0332f177-e3cc-4f5f-8cac-07e33b775d88",
   "metadata": {},
   "source": [
    "## Exporting to pdf or epub\n",
    "\n",
    "To read the material on a mobile device or to print out the whole thing on paper, it can be beneficial to export the whole book to a pdf or epub file. We do not officially support this export (=this might not work), but this is the approach that has been reported to work for some people.\n",
    "\n",
    "1. Download the book from GitHub [https://github.com/Speech-Interaction-Technology-Aalto-U/itsp](https://github.com/Speech-Interaction-Technology-Aalto-U/itsp).\n",
    "\n",
    "2. Install [Anaconda](https://anaconda.org) (recommended) or some other packing-service to get access to [Python](https://www.python.org/). \n",
    "\n",
    "3. It is recommended (but might not be required) to configure Anaconda by adding the following channels.\n",
    "\n",
    "   ```bash\n",
    "   conda config --add channels conda-forge\n",
    "   conda config --add channels pytorch\n",
    "   ```\n",
    "   ![]()   \n",
    "   Then these channels should appear in your .condarc -file together with `default`.\n",
    "\n",
    "4. Install the following packages\n",
    "\n",
    "   ```bash\n",
    "   conda install matplotlib scipy numpy jupyter jupyterlab torch torchaudio ipython ipywidgets jupyterbook\n",
    "   ```\n",
    "    ![]()    \n",
    "    Observe that in difference to section [Local server](content:localserver), here we need to install also the package `jupyterbook`.\n",
    "    \n",
    "5. Go to the folder where you have downloaded the git-repository and compile the whole book into a single html-file by \n",
    "\n",
    "   ```bash \n",
    "   jb build . --builder singlehtml\n",
    "   ```\n",
    "   ![]()\n",
    "    \n",
    "5. Install [Pandoc](https://pandoc.org/) and use it to convert the html to pdf or epub.\n",
    "\n",
    "These instructions were collected from the discussion at [github](https://github.com/Speech-Interaction-Technology-Aalto-U/itsp/discussions/1#discussioncomment-5553785) that also contains some alternative approaches."
   ]
  },
  {
   "cell_type": "code",
   "execution_count": null,
   "id": "b74e04e6-e9df-4a11-b432-db4156806f4c",
   "metadata": {},
   "outputs": [],
   "source": []
  }
 ],
 "metadata": {
  "kernelspec": {
   "display_name": "Python 3",
   "language": "python",
   "name": "python3"
  },
  "language_info": {
   "codemirror_mode": {
    "name": "ipython",
    "version": 3
   },
   "file_extension": ".py",
   "mimetype": "text/x-python",
   "name": "python",
   "nbconvert_exporter": "python",
   "pygments_lexer": "ipython3",
   "version": "3.9.17"
  }
 },
 "nbformat": 4,
 "nbformat_minor": 5
}
